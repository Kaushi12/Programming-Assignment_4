{
 "cells": [
  {
   "cell_type": "code",
   "execution_count": 6,
   "metadata": {},
   "outputs": [
    {
     "name": "stdout",
     "output_type": "stream",
     "text": [
      "Enter any number: 5\n",
      "Factorial is  120\n"
     ]
    }
   ],
   "source": [
    "num1=int(input(\"Enter any number: \"))\n",
    "fact=1\n",
    "if num1==0:\n",
    "    print(\"Factorial is 1\")\n",
    "elif num1>=1:\n",
    "    while num1!=1:\n",
    "        fact=fact*num1\n",
    "        num1=num1-1\n",
    "    print(\"Factorial is \",fact)\n",
    "        "
   ]
  },
  {
   "cell_type": "code",
   "execution_count": 9,
   "metadata": {},
   "outputs": [
    {
     "name": "stdout",
     "output_type": "stream",
     "text": [
      "Enter a number: 2\n",
      "Enter the limit upto which you want the table: 10\n",
      "2 x 1 = 2\n",
      "2 x 2 = 4\n",
      "2 x 3 = 6\n",
      "2 x 4 = 8\n",
      "2 x 5 = 10\n",
      "2 x 6 = 12\n",
      "2 x 7 = 14\n",
      "2 x 8 = 16\n",
      "2 x 9 = 18\n",
      "2 x 10 = 20\n"
     ]
    }
   ],
   "source": [
    "num2=int(input(\"Enter a number: \"))\n",
    "limit=int(input(\"Enter the limit upto which you want the table: \"))\n",
    "for i in range(1,limit+1):\n",
    "    print(num2,'x',i,'=',num2*i)"
   ]
  },
  {
   "cell_type": "code",
   "execution_count": 5,
   "metadata": {},
   "outputs": [
    {
     "name": "stdout",
     "output_type": "stream",
     "text": [
      "Enter how many terms you want: 8\n",
      "Fibonacci sequence:\n",
      "0\n",
      "1\n",
      "1\n",
      "2\n",
      "3\n",
      "5\n",
      "8\n",
      "13\n"
     ]
    }
   ],
   "source": [
    "terms=int(input(\"Enter how many terms you want: \"))\n",
    "n1,n2=0,1\n",
    "count=0\n",
    "if terms<=0:\n",
    "    print(\"Enter a positive integer: \")\n",
    "elif terms==1:\n",
    "    print(\"Fibonacci series upto\",terms,':',n1)\n",
    "    \n",
    "else:\n",
    "    print(\"Fibonacci sequence:\")\n",
    "    while count<terms:\n",
    "        print(n1)\n",
    "        nth=n1+n2\n",
    "        n1=n2\n",
    "        n2=nth\n",
    "        count+=1\n",
    "    \n",
    "    \n"
   ]
  },
  {
   "cell_type": "code",
   "execution_count": 4,
   "metadata": {},
   "outputs": [
    {
     "name": "stdout",
     "output_type": "stream",
     "text": [
      "Enter a number: 123\n",
      "Not an Armstrong Number\n"
     ]
    }
   ],
   "source": [
    "n3=int(input(\"Enter a number: \"))\n",
    "sum=0\n",
    "temp=n3\n",
    "while temp>0:\n",
    "    digit=temp%10\n",
    "    sum=sum+digit*digit*digit\n",
    "    temp=temp//10\n",
    "if n3==sum:\n",
    "    print(\"Armstrong Number\")\n",
    "else:\n",
    "    print(\"Not an Armstrong Number\")\n"
   ]
  },
  {
   "cell_type": "code",
   "execution_count": 2,
   "metadata": {},
   "outputs": [
    {
     "name": "stdout",
     "output_type": "stream",
     "text": [
      "Enter lower limit of interval: 100\n",
      "Enter upper limit of interval: 1000\n",
      "153\n",
      "370\n",
      "371\n",
      "407\n"
     ]
    }
   ],
   "source": [
    "lower=int(input(\"Enter lower limit of interval: \"))\n",
    "upper=int(input(\"Enter upper limit of interval: \"))\n",
    "for num in range(lower,upper+1):\n",
    "    sum1=0\n",
    "    temp=num\n",
    "    order=len(str(num))\n",
    "    while temp>0:\n",
    "        digit=temp%10\n",
    "        sum1=sum1+digit**order\n",
    "        temp=temp//10\n",
    "    if num==sum1:\n",
    "        print(num)"
   ]
  },
  {
   "cell_type": "code",
   "execution_count": 5,
   "metadata": {},
   "outputs": [
    {
     "name": "stdout",
     "output_type": "stream",
     "text": [
      "Enter number upto which you want the sum: 100\n",
      "5050\n"
     ]
    }
   ],
   "source": [
    "n=int(input(\"Enter number upto which you want the sum: \"))\n",
    "sum=(n*(n+1))//2\n",
    "print(sum)"
   ]
  },
  {
   "cell_type": "code",
   "execution_count": 4,
   "metadata": {},
   "outputs": [
    {
     "name": "stdout",
     "output_type": "stream",
     "text": [
      "Enter number upto which you want the sum: 100\n",
      "Sum is:  5050\n"
     ]
    }
   ],
   "source": [
    "num=int(input(\"Enter number upto which you want the sum: \"))\n",
    "if num<0:\n",
    "    print(\"Enter a positive number\")\n",
    "else:\n",
    "    sum=0\n",
    "    while(num>0):\n",
    "        sum+=num\n",
    "        num-=1\n",
    "    print(\"Sum is: \",sum)"
   ]
  },
  {
   "cell_type": "code",
   "execution_count": null,
   "metadata": {},
   "outputs": [],
   "source": []
  }
 ],
 "metadata": {
  "kernelspec": {
   "display_name": "Python 3",
   "language": "python",
   "name": "python3"
  },
  "language_info": {
   "codemirror_mode": {
    "name": "ipython",
    "version": 3
   },
   "file_extension": ".py",
   "mimetype": "text/x-python",
   "name": "python",
   "nbconvert_exporter": "python",
   "pygments_lexer": "ipython3",
   "version": "3.8.5"
  }
 },
 "nbformat": 4,
 "nbformat_minor": 4
}
